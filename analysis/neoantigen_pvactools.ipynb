{
 "cells": [
  {
   "cell_type": "code",
   "execution_count": 1,
   "metadata": {},
   "outputs": [],
   "source": [
    "import pandas as pd\n",
    "import matplotlib.pyplot as plt\n",
    "import seaborn as sns\n",
    "import numpy as np\n",
    "from collections import defaultdict\n",
    "from scipy.stats import hypergeom"
   ]
  },
  {
   "cell_type": "code",
   "execution_count": 13,
   "metadata": {},
   "outputs": [],
   "source": [
    "df = []\n",
    "# Note: Pvactools was not able to complete analysis of samples 69 and 83.\n",
    "samples = [34,35,39,\n",
    "           40,41,42,43,44,46,47,48,49,\n",
    "           50,51,52,53,54,55,56,57,58,59,\n",
    "           60,61,62,63,64,65,66,68,\n",
    "           70,71,73,74,75,76,77,78,79,\n",
    "           80,81,82,84,85,86,88,89,\n",
    "           91,92]\n",
    "tag = 'combined'\n",
    "#tag = 'MHCI'\n",
    "#tag = 'MHCII'\n",
    "for sample in samples:\n",
    "    filename = '/home/harald/projects/somatic/test_samples/pvac/BTN-0{}.filtered.condensed.ranked.tsv'.format(sample)\n",
    "    #filename = '/home/harald/projects/somatic/test_samples/pvacI/BTN-0{}.filtered.condensed.ranked.tsv'.format(sample)\n",
    "    #filename = '/home/harald/projects/somatic/test_samples/pvacII/BTN-0{}.filtered.condensed.ranked.tsv'.format(sample)\n",
    "    df.append(pd.read_table(filename, header=0))\n",
    "for i in range(len(df)):\n",
    "    df[i]['gene_pos'] = df[i]['Gene Name'] + '_' + df[i]['Protein Position'].astype('str')"
   ]
  },
  {
   "cell_type": "code",
   "execution_count": 14,
   "metadata": {},
   "outputs": [],
   "source": [
    "# Print a simple report for each sample with the gene and the number of times that gene occur in total.\n",
    "l = []\n",
    "for d in df:\n",
    "    l += list(d['Gene Name'])\n",
    "all_genes = set(l)\n",
    "genedb = {}\n",
    "for gene in all_genes:\n",
    "    genedb[gene] = l.count(gene)\n",
    "with open('gene_frequency.{}.txt'.format(tag), 'w') as fout, open('gene_frequency_transposed.{}.txt'.format(tag),'w') as fout2:\n",
    "    for i,d in enumerate(df):\n",
    "        fout.write('#S{}\\n'.format(samples[i]))\n",
    "        fout2.write('S{}'.format(i))\n",
    "        for ind, row in d.iterrows():\n",
    "            fout.write('{}\\t{}\\n'.format(row['Gene Name'], genedb[row['Gene Name']]))\n",
    "            fout2.write('\\t{}'.format(genedb[row['Gene Name']]))\n",
    "        fout2.write('\\n')\n",
    "# Print a simple report for each sample with the gene-pos and the number of times that gene-pos occur in total.\n",
    "l = []\n",
    "for d in df:\n",
    "    l += list(d['gene_pos'])\n",
    "all_genepos = set(l)\n",
    "geneposdb = {}\n",
    "for genepos in all_genepos:\n",
    "    geneposdb[genepos] = l.count(genepos)\n",
    "with open('gene-pos_frequency.{}.txt'.format(tag), 'w') as fout, open('gene-pos_frequency_transposed.{}.txt'.format(tag),'w') as fout2:\n",
    "    for i,d in enumerate(df):\n",
    "        fout.write('#S{}\\n'.format(samples[i]))\n",
    "        fout2.write('S{}'.format(i))\n",
    "        for ind, row in d.iterrows():\n",
    "            fout.write('{}\\t{}\\n'.format(row['gene_pos'], geneposdb[row['gene_pos']]))\n",
    "            fout2.write('\\t{}'.format(geneposdb[row['gene_pos']]))\n",
    "        fout2.write('\\n')"
   ]
  },
  {
   "cell_type": "code",
   "execution_count": null,
   "metadata": {},
   "outputs": [],
   "source": [
    "# Plot a histogram of how many genes with at least one predicted epitope, not necessarily the same mutation, are shared between any two samples.\n",
    "shared = []\n",
    "fig, axes = plt.subplots(1,1,figsize=(10,10))\n",
    "for i in range(len(df)):\n",
    "    li = set(list(df[i]['Gene Name']))\n",
    "    for j in range(len(df)):\n",
    "        if j <= i:\n",
    "            continue\n",
    "        lj = set(list(df[j]['Gene Name']))\n",
    "        shared.append(len(li.intersection(lj)))\n",
    "shared = pd.Series(shared)\n",
    "bins = np.arange(0,100,4)\n",
    "sns.distplot(shared, kde=False, ax=axes, bins=bins)\n",
    "fig.savefig('gene_histogram.png')"
   ]
  },
  {
   "cell_type": "code",
   "execution_count": 15,
   "metadata": {},
   "outputs": [],
   "source": [
    "# Calculate Linked epitopes for epitopes appearing 10 or more times among the samples\n",
    "l = []\n",
    "for d in df:\n",
    "    l += list(d['gene_pos'])\n",
    "all_genepos = set(l)\n",
    "geneposdb = {}\n",
    "for genepos in all_genepos:\n",
    "    geneposdb[genepos] = l.count(genepos)\n",
    "linkdb = defaultdict(int)\n",
    "with open('gene-pos_link-frequency.{}.txt'.format(tag), 'w') as fout:\n",
    "    fout.write('Epitope1\\tEpitope2\\tFrequency1\\tFrequency2\\tLinkFrequency\\tp-value\\n')\n",
    "    for i,d in enumerate(df):\n",
    "        geneposlist = list(d['gene_pos'])\n",
    "        for i1, genepos1 in enumerate(geneposlist[:-1]):\n",
    "            if geneposdb[genepos1] < 10:\n",
    "                continue\n",
    "            for i2, genepos2 in enumerate(geneposlist[i1+1:]):\n",
    "                if geneposdb[genepos2] < 10:\n",
    "                    continue\n",
    "                a,b = sorted([genepos1,genepos2])\n",
    "                linkdb[a,b] += 1\n",
    "    for genepos1,genepos2 in linkdb:\n",
    "        M = len(df)\n",
    "        k = linkdb[genepos1,genepos2]\n",
    "        n = geneposdb[genepos1]\n",
    "        N = geneposdb[genepos2]\n",
    "        pval = hypergeom.sf(k-1, M, n, N)\n",
    "        fout.write('{}\\t{}\\t{}\\t{}\\t{}\\t{}\\n'.format(genepos1,genepos2,n,N,k,pval))\n"
   ]
  },
  {
   "cell_type": "code",
   "execution_count": null,
   "metadata": {},
   "outputs": [],
   "source": [
    "# Plot a histogram of how many epitopes, based on exact same mutation, are shared between any two samples.\n",
    "shared = []\n",
    "fig, axes = plt.subplots(1,1,figsize=(10,10))\n",
    "for i in range(len(df)):\n",
    "    li = set(list(df[i]['gene_pos']))\n",
    "    for j in range(len(df)):\n",
    "        if j <= i:\n",
    "            continue\n",
    "        lj = set(list(df[j]['gene_pos']))\n",
    "        shared.append(len(li.intersection(lj)))\n",
    "shared = pd.Series(shared)\n",
    "bins = np.arange(0,50,2)\n",
    "sns.distplot(shared, kde=False, ax=axes, bins=bins)\n",
    "fig.savefig('gene-pos_histogram.png')"
   ]
  },
  {
   "cell_type": "code",
   "execution_count": 16,
   "metadata": {},
   "outputs": [
    {
     "data": {
      "image/png": "[encoded data removed]",
      "text/plain": [
       "<Figure size 720x720 with 1 Axes>"
      ]
     },
     "metadata": {
      "needs_background": "light"
     },
     "output_type": "display_data"
    }
   ],
   "source": [
    "genesummary = {}\n",
    "for genepos, count2 in geneposdb.items():\n",
    "    g,pos = genepos.rsplit('_',1)\n",
    "    if g not in genesummary:\n",
    "        genesummary[g] = {'pos':[],'counts':[]}\n",
    "    genesummary[g]['pos'].append(pos)\n",
    "    genesummary[g]['counts'].append(count2)\n",
    "x = []\n",
    "y = []\n",
    "with open('gene_summary.{}.txt'.format(tag),'w') as fout:\n",
    "    fout.write('GeneName\\tTotalEpitopes\\tUniqueMutations\\tProteinPositions\\n')\n",
    "    for gene in all_genes:\n",
    "        x.append(sum(genesummary[gene]['counts']))\n",
    "        y.append(len(genesummary[gene]['pos']))\n",
    "        fout.write('{}\\t{}\\t{}\\t{}\\n'.format(gene,x[-1],y[-1],';'.join(sorted(genesummary[gene]['pos']))))\n",
    "fig, axes = plt.subplots(1,1,figsize=(10,10))\n",
    "axes.scatter(x,y)\n",
    "axes.set_ylabel('Unique mutations')\n",
    "axes.set_xlabel('Total epitopes')\n",
    "fig.savefig('total-epitopes_unique-mutations.{}.png'.format(tag))"
   ]
  }
 ],
 "metadata": {
  "kernelspec": {
   "display_name": "Python [conda env:datascience]",
   "language": "python",
   "name": "conda-env-datascience-py"
  },
  "language_info": {
   "codemirror_mode": {
    "name": "ipython",
    "version": 3
   },
   "file_extension": ".py",
   "mimetype": "text/x-python",
   "name": "python",
   "nbconvert_exporter": "python",
   "pygments_lexer": "ipython3",
   "version": "3.6.8"
  }
 },
 "nbformat": 4,
 "nbformat_minor": 2
}
